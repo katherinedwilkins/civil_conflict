{
 "metadata": {
  "name": "",
  "signature": "sha256:29df6c3c42ff2bc3c88efe1d535673162e2c166e72397aa762c420c3bb8a7594"
 },
 "nbformat": 3,
 "nbformat_minor": 0,
 "worksheets": [
  {
   "cells": [
    {
     "cell_type": "code",
     "collapsed": false,
     "input": [
      "%matplotlib inline\n",
      "\n",
      "import numpy as np\n",
      "from matplotlib import pyplot as plt\n",
      "import seaborn as sns\n",
      "\n",
      "np.set_printoptions(precision=2)\n",
      "\n",
      "from graphics import plot_locations\n",
      "from graphics import plot_route_with_colors\n",
      "from models import Configuration\n",
      "from models import Route\n",
      "from optimization import sim_anneal"
     ],
     "language": "python",
     "metadata": {},
     "outputs": [],
     "prompt_number": 1
    },
    {
     "cell_type": "code",
     "collapsed": false,
     "input": [
      "c = Configuration()\n",
      "r = Route(c, np.array([75]*3))"
     ],
     "language": "python",
     "metadata": {},
     "outputs": [],
     "prompt_number": 10
    },
    {
     "cell_type": "code",
     "collapsed": false,
     "input": [
      "res, losses, dists = sim_anneal(r.loss, r.perturb, np.arange(c.n),\n",
      "                               t0=10.0, ntrial=100000, reanneal=1000,\n",
      "                               other_func=r.dist, verbose=True)"
     ],
     "language": "python",
     "metadata": {},
     "outputs": [
      {
       "output_type": "stream",
       "stream": "stdout",
       "text": [
        "reannealing; i[0] exp(dE/t)[1.50040625798] eprev[498586.920832], enew[498586.920832]\n",
        "reannealing; i[1000] exp(dE/t)[4.95587477576e-06] eprev[1625.43554103], enew[1735.36997278]"
       ]
      },
      {
       "output_type": "stream",
       "stream": "stdout",
       "text": [
        "\n",
        "reannealing; i[2000] exp(dE/t)[0.0] eprev[1367.90994439], enew[11446.9073276]"
       ]
      },
      {
       "output_type": "stream",
       "stream": "stdout",
       "text": [
        "\n",
        "reannealing; i[3000] exp(dE/t)[0.36875014442] eprev[1463.93518557], enew[1471.20795186]"
       ]
      },
      {
       "output_type": "stream",
       "stream": "stdout",
       "text": [
        "\n",
        "reannealing; i[4000] exp(dE/t)[9.04539203073e-10] eprev[1301.94766168], enew[1438.57127156]"
       ]
      },
      {
       "output_type": "stream",
       "stream": "stdout",
       "text": [
        "\n",
        "reannealing; i[5000] exp(dE/t)[3.17357309846e-06] eprev[1342.96264961], enew[1417.72253623]"
       ]
      },
      {
       "output_type": "stream",
       "stream": "stdout",
       "text": [
        "\n",
        "reannealing; i[6000] exp(dE/t)[1.01046829114e-05] eprev[1210.77568309], enew[1271.90474569]"
       ]
      },
      {
       "output_type": "stream",
       "stream": "stdout",
       "text": [
        "\n",
        "reannealing; i[7000] exp(dE/t)[0.000101300288285] eprev[1163.90021875], enew[1207.89119971]"
       ]
      },
      {
       "output_type": "stream",
       "stream": "stdout",
       "text": [
        "\n",
        "reannealing; i[8000] exp(dE/t)[0.0181831175081] eprev[1030.78954966], enew[1048.0394974]"
       ]
      },
      {
       "output_type": "stream",
       "stream": "stdout",
       "text": [
        "\n",
        "reannealing; i[9000] exp(dE/t)[0.0] eprev[1017.66495683], enew[4695.56839223]"
       ]
      },
      {
       "output_type": "stream",
       "stream": "stdout",
       "text": [
        "\n",
        "reannealing; i[10000] exp(dE/t)[2.62021671889e-24] eprev[1038.62021241], enew[1227.94836964]"
       ]
      },
      {
       "output_type": "stream",
       "stream": "stdout",
       "text": [
        "\n",
        "reannealing; i[11000] exp(dE/t)[3.50554001128e-150] eprev[987.572606378], enew[2067.49974105]"
       ]
      },
      {
       "output_type": "stream",
       "stream": "stdout",
       "text": [
        "\n",
        "reannealing; i[12000] exp(dE/t)[2.3853254897e-05] eprev[926.827100301], enew[956.887741854]"
       ]
      },
      {
       "output_type": "stream",
       "stream": "stdout",
       "text": [
        "\n",
        "reannealing; i[13000] exp(dE/t)[0.0] eprev[881.156265385], enew[2783.4735969]"
       ]
      },
      {
       "output_type": "stream",
       "stream": "stdout",
       "text": [
        "\n",
        "reannealing; i[14000] exp(dE/t)[0.0] eprev[866.576150421], enew[3271.49872103]"
       ]
      },
      {
       "output_type": "stream",
       "stream": "stdout",
       "text": [
        "\n",
        "reannealing; i[15000] exp(dE/t)[9.82071544444e-07] eprev[841.812130794], enew[870.294289893]"
       ]
      },
      {
       "output_type": "stream",
       "stream": "stdout",
       "text": [
        "\n",
        "reannealing; i[16000] exp(dE/t)[3.86686410784e-22] eprev[834.538951228], enew[925.901052037]"
       ]
      },
      {
       "output_type": "stream",
       "stream": "stdout",
       "text": [
        "\n",
        "reannealing; i[17000] exp(dE/t)[0.00493904620213] eprev[835.385753077], enew[844.242308911]"
       ]
      },
      {
       "output_type": "stream",
       "stream": "stdout",
       "text": [
        "\n",
        "reannealing; i[18000] exp(dE/t)[0.0] eprev[828.244088974], enew[9889.90483328]"
       ]
      },
      {
       "output_type": "stream",
       "stream": "stdout",
       "text": [
        "\n",
        "reannealing; i[19000] exp(dE/t)[2.06963668158e-48] eprev[824.225142867], enew[972.544219041]"
       ]
      },
      {
       "output_type": "stream",
       "stream": "stdout",
       "text": [
        "\n",
        "reannealing; i[20000] exp(dE/t)[0.0342826327986] eprev[799.419795918], enew[803.520717975]"
       ]
      },
      {
       "output_type": "stream",
       "stream": "stdout",
       "text": [
        "\n",
        "reannealing; i[21000] exp(dE/t)[5.88974812341e-59] eprev[784.692799833], enew[931.401022464]"
       ]
      },
      {
       "output_type": "stream",
       "stream": "stdout",
       "text": [
        "\n",
        "reannealing; i[22000] exp(dE/t)[0.000135400881498] eprev[774.377360403], enew[783.148981393]"
       ]
      },
      {
       "output_type": "stream",
       "stream": "stdout",
       "text": [
        "\n",
        "reannealing; i[23000] exp(dE/t)[8.67510169538e-70] eprev[760.015905429], enew[900.954790077]"
       ]
      },
      {
       "output_type": "stream",
       "stream": "stdout",
       "text": [
        "\n",
        "reannealing; i[24000] exp(dE/t)[3.83086581519e-56] eprev[747.060240765], enew[848.843557715]"
       ]
      },
      {
       "output_type": "stream",
       "stream": "stdout",
       "text": [
        "\n",
        "reannealing; i[25000] exp(dE/t)[1.69053319485e-122] eprev[747.021039617], enew[948.312698581]"
       ]
      },
      {
       "output_type": "stream",
       "stream": "stdout",
       "text": [
        "\n",
        "reannealing; i[26000] exp(dE/t)[0.0] eprev[745.841132584], enew[7545.5245428]"
       ]
      },
      {
       "output_type": "stream",
       "stream": "stdout",
       "text": [
        "\n",
        "reannealing; i[27000] exp(dE/t)[3.99113072e-40] eprev[736.072872947], enew[788.825924253]"
       ]
      },
      {
       "output_type": "stream",
       "stream": "stdout",
       "text": [
        "\n",
        "reannealing; i[28000] exp(dE/t)[9.94162599592e-66] eprev[727.939772237], enew[806.271245965]"
       ]
      },
      {
       "output_type": "stream",
       "stream": "stdout",
       "text": [
        "\n",
        "reannealing; i[29000] exp(dE/t)[2.33977645141e-62] eprev[728.518054806], enew[795.359594948]"
       ]
      },
      {
       "output_type": "stream",
       "stream": "stdout",
       "text": [
        "\n",
        "reannealing; i[30000] exp(dE/t)[4.75953032521e-30] eprev[724.334454511], enew[752.955864018]"
       ]
      },
      {
       "output_type": "stream",
       "stream": "stdout",
       "text": [
        "\n",
        "reannealing; i[31000] exp(dE/t)[5.75815124562e-187] eprev[720.344586178], enew[883.953056511]"
       ]
      },
      {
       "output_type": "stream",
       "stream": "stdout",
       "text": [
        "\n",
        "reannealing; i[32000] exp(dE/t)[2.75165963068e-76] eprev[711.63817401], enew[771.378868838]"
       ]
      },
      {
       "output_type": "stream",
       "stream": "stdout",
       "text": [
        "\n",
        "reannealing; i[33000] exp(dE/t)[1.74937980608e-81] eprev[711.547031927], enew[769.011488048]"
       ]
      },
      {
       "output_type": "stream",
       "stream": "stdout",
       "text": [
        "\n",
        "reannealing; i[34000] exp(dE/t)[7.67772392956e-34] eprev[711.63817401], enew[732.845344116]"
       ]
      },
      {
       "output_type": "stream",
       "stream": "stdout",
       "text": [
        "\n",
        "reannealing; i[35000] exp(dE/t)[9.29806074605e-211] eprev[709.812440596], enew[830.868957947]"
       ]
      },
      {
       "output_type": "stream",
       "stream": "stdout",
       "text": [
        "\n",
        "reannealing; i[36000] exp(dE/t)[7.03163937756e-191] eprev[708.528742798], enew[807.167838211]"
       ]
      },
      {
       "output_type": "stream",
       "stream": "stdout",
       "text": [
        "\n",
        "reannealing; i[37000] exp(dE/t)[1.48827723283e-301] eprev[708.822634901], enew[849.267481185]"
       ]
      },
      {
       "output_type": "stream",
       "stream": "stdout",
       "text": [
        "\n",
        "reannealing; i[38000] exp(dE/t)[4.07852411806e-34] eprev[708.528742798], enew[722.558201777]"
       ]
      },
      {
       "output_type": "stream",
       "stream": "stdout",
       "text": [
        "\n",
        "reannealing; i[39000] exp(dE/t)[0.0] eprev[705.988899782], enew[850.988933511]"
       ]
      },
      {
       "output_type": "stream",
       "stream": "stdout",
       "text": [
        "\n",
        "reannealing; i[40000] exp(dE/t)[1.9960252092e-321] eprev[705.822729079], enew[814.970430517]"
       ]
      },
      {
       "output_type": "stream",
       "stream": "stdout",
       "text": [
        "\n",
        "reannealing; i[41000] exp(dE/t)[0.0] eprev[705.822729079], enew[20161.968483]"
       ]
      },
      {
       "output_type": "stream",
       "stream": "stdout",
       "text": [
        "\n",
        "reannealing; i[42000] exp(dE/t)[8.7901726594e-180] eprev[704.730774545], enew[754.092458815]"
       ]
      },
      {
       "output_type": "stream",
       "stream": "stdout",
       "text": [
        "\n",
        "reannealing; i[43000] exp(dE/t)[0.0] eprev[704.597812179], enew[1851.07163055]"
       ]
      },
      {
       "output_type": "stream",
       "stream": "stdout",
       "text": [
        "\n",
        "reannealing; i[44000] exp(dE/t)[9.72762497969e-110] eprev[702.930860657], enew[828.435555885]"
       ]
      },
      {
       "output_type": "stream",
       "stream": "stdout",
       "text": [
        "\n",
        "reannealing; i[45000] exp(dE/t)[3.76938951542e-46] eprev[703.075425484], enew[750.141826033]"
       ]
      },
      {
       "output_type": "stream",
       "stream": "stdout",
       "text": [
        "\n",
        "reannealing; i[46000] exp(dE/t)[5.78995963282e-172] eprev[703.489906219], enew[863.176753043]"
       ]
      },
      {
       "output_type": "stream",
       "stream": "stdout",
       "text": [
        "\n",
        "reannealing; i[47000] exp(dE/t)[1.8060267583e-165] eprev[703.398692524], enew[841.66644986]"
       ]
      },
      {
       "output_type": "stream",
       "stream": "stdout",
       "text": [
        "\n",
        "reannealing; i[48000] exp(dE/t)[0.0] eprev[702.668619922], enew[23541.1214355]"
       ]
      },
      {
       "output_type": "stream",
       "stream": "stdout",
       "text": [
        "\n",
        "reannealing; i[49000] exp(dE/t)[3.81418329706e-126] eprev[702.470826175], enew[787.733742558]"
       ]
      },
      {
       "output_type": "stream",
       "stream": "stdout",
       "text": [
        "\n",
        "reannealing; i[50000] exp(dE/t)[8.10531054499e-57] eprev[703.215981496], enew[737.535067722]"
       ]
      },
      {
       "output_type": "stream",
       "stream": "stdout",
       "text": [
        "\n",
        "reannealing; i[51000] exp(dE/t)[4.50508722206e-57] eprev[702.464864889], enew[733.492497299]"
       ]
      },
      {
       "output_type": "stream",
       "stream": "stdout",
       "text": [
        "\n",
        "reannealing; i[52000] exp(dE/t)[1.96028231598e-64] eprev[702.464864889], enew[734.037989809]"
       ]
      },
      {
       "output_type": "stream",
       "stream": "stdout",
       "text": [
        "\n",
        "reannealing; i[53000] exp(dE/t)[8.8081383254e-175] eprev[701.763923443], enew[779.398478929]"
       ]
      },
      {
       "output_type": "stream",
       "stream": "stdout",
       "text": [
        "\n",
        "reannealing; i[54000] exp(dE/t)[4.38095815533e-291] eprev[697.005848929], enew[813.564692033]"
       ]
      },
      {
       "output_type": "stream",
       "stream": "stdout",
       "text": [
        "\n",
        "reannealing; i[55000] exp(dE/t)[0.0] eprev[692.390145605], enew[827.927591077]"
       ]
      },
      {
       "output_type": "stream",
       "stream": "stdout",
       "text": [
        "\n",
        "reannealing; i[56000] exp(dE/t)[1.77124211687e-53] eprev[692.390145605], enew[709.54284387]"
       ]
      },
      {
       "output_type": "stream",
       "stream": "stdout",
       "text": [
        "\n",
        "reannealing; i[57000] exp(dE/t)[6.27790922789e-26] eprev[692.390145605], enew[699.765391601]"
       ]
      },
      {
       "output_type": "stream",
       "stream": "stdout",
       "text": [
        "\n",
        "reannealing; i[58000] exp(dE/t)[5.29839827955e-115] eprev[692.390145605], enew[722.487984002]"
       ]
      },
      {
       "output_type": "stream",
       "stream": "stdout",
       "text": [
        "\n",
        "reannealing; i[59000] exp(dE/t)[1.69517743756e-142] eprev[692.390145605], enew[725.99562369]"
       ]
      },
      {
       "output_type": "stream",
       "stream": "stdout",
       "text": [
        "\n",
        "reannealing; i[60000] exp(dE/t)[2.06065177576e-117] eprev[692.684129721], enew[827.023846497]"
       ]
      },
      {
       "output_type": "stream",
       "stream": "stdout",
       "text": [
        "\n",
        "reannealing; i[61000] exp(dE/t)[1.23054885967e-117] eprev[693.037858298], enew[814.175606311]"
       ]
      },
      {
       "output_type": "stream",
       "stream": "stdout",
       "text": [
        "\n",
        "reannealing; i[62000] exp(dE/t)[5.78180099928e-38] eprev[693.037858298], enew[727.763983213]"
       ]
      },
      {
       "output_type": "stream",
       "stream": "stdout",
       "text": [
        "\n",
        "reannealing; i[63000] exp(dE/t)[1.38953140923e-144] eprev[693.037858298], enew[813.776036343]"
       ]
      },
      {
       "output_type": "stream",
       "stream": "stdout",
       "text": [
        "\n",
        "reannealing; i[64000] exp(dE/t)[1.17993170913e-65] eprev[693.037858298], enew[742.082177857]"
       ]
      },
      {
       "output_type": "stream",
       "stream": "stdout",
       "text": [
        "\n",
        "reannealing; i[65000] exp(dE/t)[2.48855442458e-104] eprev[692.467417648], enew[762.900222715]"
       ]
      },
      {
       "output_type": "stream",
       "stream": "stdout",
       "text": [
        "\n",
        "reannealing; i[66000] exp(dE/t)[3.45454885599e-123] eprev[692.467417648], enew[767.394825755]"
       ]
      },
      {
       "output_type": "stream",
       "stream": "stdout",
       "text": [
        "\n",
        "reannealing; i[67000] exp(dE/t)[9.17220264892e-250] eprev[692.821146226], enew[829.956064817]"
       ]
      },
      {
       "output_type": "stream",
       "stream": "stdout",
       "text": [
        "\n",
        "reannealing; i[68000] exp(dE/t)[1.83298742133e-172] eprev[692.821146226], enew[777.932840792]"
       ]
      },
      {
       "output_type": "stream",
       "stream": "stdout",
       "text": [
        "\n",
        "reannealing; i[69000] exp(dE/t)[2.78607145436e-131] eprev[692.821146226], enew[751.053160505]"
       ]
      },
      {
       "output_type": "stream",
       "stream": "stdout",
       "text": [
        "\n",
        "reannealing; i[70000] exp(dE/t)[0.0] eprev[692.86374634], enew[830.073370937]"
       ]
      },
      {
       "output_type": "stream",
       "stream": "stdout",
       "text": [
        "\n",
        "reannealing; i[71000] exp(dE/t)[3.2496958498e-85] eprev[692.432745719], enew[722.957286215]"
       ]
      },
      {
       "output_type": "stream",
       "stream": "stdout",
       "text": [
        "\n",
        "reannealing; i[72000] exp(dE/t)[0.0] eprev[692.565708085], enew[812.896870729]"
       ]
      },
      {
       "output_type": "stream",
       "stream": "stdout",
       "text": [
        "\n",
        "reannealing; i[73000] exp(dE/t)[4.35777286215e-314] eprev[692.565708085], enew[784.268570828]"
       ]
      },
      {
       "output_type": "stream",
       "stream": "stdout",
       "text": [
        "\n",
        "reannealing; i[74000] exp(dE/t)[0.0] eprev[692.045873469], enew[809.402891669]"
       ]
      },
      {
       "output_type": "stream",
       "stream": "stdout",
       "text": [
        "\n",
        "reannealing; i[75000] exp(dE/t)[1.19676537345e-262] eprev[692.045873469], enew[754.132104692]"
       ]
      },
      {
       "output_type": "stream",
       "stream": "stdout",
       "text": [
        "\n",
        "reannealing; i[76000] exp(dE/t)[7.92449854785e-21] eprev[692.045873469], enew[715.188037424]"
       ]
      },
      {
       "output_type": "stream",
       "stream": "stdout",
       "text": [
        "\n",
        "reannealing; i[77000] exp(dE/t)[2.80842500772e-170] eprev[692.045873469], enew[867.728952359]"
       ]
      },
      {
       "output_type": "stream",
       "stream": "stdout",
       "text": [
        "\n",
        "reannealing; i[78000] exp(dE/t)[4.57714260669e-49] eprev[692.045873469], enew[737.124639298]"
       ]
      },
      {
       "output_type": "stream",
       "stream": "stdout",
       "text": [
        "\n",
        "reannealing; i[79000] exp(dE/t)[1.14650561794e-123] eprev[692.045873469], enew[795.228988261]"
       ]
      },
      {
       "output_type": "stream",
       "stream": "stdout",
       "text": [
        "\n",
        "reannealing; i[80000] exp(dE/t)[5.83816420337e-215] eprev[692.714156107], enew[854.538392855]"
       ]
      },
      {
       "output_type": "stream",
       "stream": "stdout",
       "text": [
        "\n",
        "reannealing; i[81000] exp(dE/t)[0.0] eprev[692.671555993], enew[20567.4842138]"
       ]
      },
      {
       "output_type": "stream",
       "stream": "stdout",
       "text": [
        "\n",
        "reannealing; i[82000] exp(dE/t)[9.42192629851e-124] eprev[692.003273355], enew[767.275915475]"
       ]
      },
      {
       "output_type": "stream",
       "stream": "stdout",
       "text": [
        "\n",
        "reannealing; i[83000] exp(dE/t)[2.51904202112e-115] eprev[692.003273355], enew[755.108189639]"
       ]
      },
      {
       "output_type": "stream",
       "stream": "stdout",
       "text": [
        "\n",
        "reannealing; i[84000] exp(dE/t)[3.34441372496e-228] eprev[692.003273355], enew[804.73878508]"
       ]
      },
      {
       "output_type": "stream",
       "stream": "stdout",
       "text": [
        "\n",
        "reannealing; i[85000] exp(dE/t)[2.5262538052e-125] eprev[692.003273355], enew[747.578044976]"
       ]
      },
      {
       "output_type": "stream",
       "stream": "stdout",
       "text": [
        "\n",
        "reannealing; i[86000] exp(dE/t)[7.41495152446e-166] eprev[692.003273355], enew[758.291512609]"
       ]
      },
      {
       "output_type": "stream",
       "stream": "stdout",
       "text": [
        "\n",
        "reannealing; i[87000] exp(dE/t)[1.53788200885e-162] eprev[691.870310989], enew[750.331401631]"
       ]
      },
      {
       "output_type": "stream",
       "stream": "stdout",
       "text": [
        "\n",
        "reannealing; i[88000] exp(dE/t)[3.83848192239e-306] eprev[691.870310989], enew[791.179026458]"
       ]
      },
      {
       "output_type": "stream",
       "stream": "stdout",
       "text": [
        "\n",
        "reannealing; i[89000] exp(dE/t)[1.08302854001e-279] eprev[691.870310989], enew[773.507603848]"
       ]
      },
      {
       "output_type": "stream",
       "stream": "stdout",
       "text": [
        "\n",
        "reannealing; i[90000] exp(dE/t)[0.0] eprev[691.870310989], enew[778.213054401]"
       ]
      },
      {
       "output_type": "stream",
       "stream": "stdout",
       "text": [
        "\n",
        "reannealing; i[91000] exp(dE/t)[0.0] eprev[691.870310989], enew[793.702632035]"
       ]
      },
      {
       "output_type": "stream",
       "stream": "stdout",
       "text": [
        "\n",
        "reannealing; i[92000] exp(dE/t)[1.10945550761e-42] eprev[691.870310989], enew[740.172663261]"
       ]
      },
      {
       "output_type": "stream",
       "stream": "stdout",
       "text": [
        "\n",
        "reannealing; i[93000] exp(dE/t)[0.0] eprev[691.870310989], enew[8164.09733951]"
       ]
      },
      {
       "output_type": "stream",
       "stream": "stdout",
       "text": [
        "\n",
        "reannealing; i[94000] exp(dE/t)[2.3109410953e-179] eprev[691.870310989], enew[858.456967095]"
       ]
      },
      {
       "output_type": "stream",
       "stream": "stdout",
       "text": [
        "\n",
        "reannealing; i[95000] exp(dE/t)[8.75292972352e-123] eprev[691.870310989], enew[794.312517658]"
       ]
      },
      {
       "output_type": "stream",
       "stream": "stdout",
       "text": [
        "\n",
        "reannealing; i[96000] exp(dE/t)[2.04701728616e-09] eprev[692.506757868], enew[699.070015536]"
       ]
      },
      {
       "output_type": "stream",
       "stream": "stdout",
       "text": [
        "\n",
        "reannealing; i[97000] exp(dE/t)[8.1644860659e-174] eprev[692.506757868], enew[810.176656279]"
       ]
      },
      {
       "output_type": "stream",
       "stream": "stdout",
       "text": [
        "\n",
        "reannealing; i[98000] exp(dE/t)[0.0] eprev[692.506757868], enew[9176.53054721]"
       ]
      },
      {
       "output_type": "stream",
       "stream": "stdout",
       "text": [
        "\n",
        "reannealing; i[99000] exp(dE/t)[0.0] eprev[692.549357982], enew[1464.53096264]"
       ]
      },
      {
       "output_type": "stream",
       "stream": "stdout",
       "text": [
        "\n"
       ]
      }
     ],
     "prompt_number": 15
    },
    {
     "cell_type": "code",
     "collapsed": false,
     "input": [
      "fig, ax = plt.subplots(figsize=(8, 8))\n",
      "ax = plot_route_with_colors(c, res, ax)\n",
      "ax.legend(bbox_to_anchor=(1.18, 1))\n",
      "plt.show()"
     ],
     "language": "python",
     "metadata": {},
     "outputs": [
      {
       "metadata": {},
       "output_type": "display_data",
       "png": "[encoded data removed]",
       "text": [
        "<matplotlib.figure.Figure at 0x5197f90>"
       ]
      }
     ],
     "prompt_number": 16
    },
    {
     "cell_type": "code",
     "collapsed": false,
     "input": [
      "fig = plt.figure(figsize=(14, 4))\n",
      "plt.plot(losses, label='loss')\n",
      "plt.semilogy()\n",
      "plt.legend()\n",
      "plt.xlabel('accepted proposal')\n",
      "plt.ylabel('loss')\n",
      "plt.show()"
     ],
     "language": "python",
     "metadata": {},
     "outputs": [
      {
       "metadata": {},
       "output_type": "display_data",
       "png": "[encoded data removed]",
       "text": [
        "<matplotlib.figure.Figure at 0x4c2ead0>"
       ]
      }
     ],
     "prompt_number": 17
    },
    {
     "cell_type": "code",
     "collapsed": false,
     "input": [],
     "language": "python",
     "metadata": {},
     "outputs": []
    }
   ],
   "metadata": {}
  }
 ]
}